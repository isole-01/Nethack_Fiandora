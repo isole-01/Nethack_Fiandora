{
 "cells": [
  {
   "cell_type": "code",
   "execution_count": 1,
   "id": "a9ae8c14-0a33-4fe6-9ad9-73f765413312",
   "metadata": {},
   "outputs": [],
   "source": [
    "from utilsk import actions\n",
    "from pyswip import Prolog\n"
   ]
  },
  {
   "cell_type": "code",
   "execution_count": 2,
   "id": "c1e770fe-37b2-4e41-bb0e-b45648ccda14",
   "metadata": {},
   "outputs": [],
   "source": [
    "KB = Prolog()\n",
    "KB.consult('kbkey.pl')"
   ]
  },
  {
   "cell_type": "code",
   "execution_count": 3,
   "id": "8e780d8c-a4f6-430a-9289-dd046fad7d61",
   "metadata": {},
   "outputs": [
    {
     "data": {
      "text/plain": [
       "[{'X': 'explore'}]"
      ]
     },
     "execution_count": 3,
     "metadata": {},
     "output_type": "execute_result"
    }
   ],
   "source": [
    "list(KB.query('action(X)'))"
   ]
  },
  {
   "cell_type": "code",
   "execution_count": 4,
   "id": "d74043f8-413b-4136-91d2-0182e6d9a476",
   "metadata": {},
   "outputs": [],
   "source": [
    "KB.asserta('in_sight(key)')"
   ]
  },
  {
   "cell_type": "code",
   "execution_count": 5,
   "id": "e348fe48-3768-4ed5-8819-5cc753fc48a8",
   "metadata": {},
   "outputs": [
    {
     "data": {
      "text/plain": [
       "[{'X': 'key'}]"
      ]
     },
     "execution_count": 5,
     "metadata": {},
     "output_type": "execute_result"
    }
   ],
   "source": [
    "list(KB.query('in_sight(X)'))"
   ]
  },
  {
   "cell_type": "code",
   "execution_count": 6,
   "id": "373dc41c-e7b9-48c8-bfcc-ca7a29e5f214",
   "metadata": {},
   "outputs": [
    {
     "data": {
      "text/plain": [
       "[]"
      ]
     },
     "execution_count": 6,
     "metadata": {},
     "output_type": "execute_result"
    }
   ],
   "source": [
    "list(KB.query('standing_next(door)'))"
   ]
  },
  {
   "cell_type": "code",
   "execution_count": 7,
   "id": "5fbcda80-5c1b-4705-af81-52c55ee2ec9e",
   "metadata": {},
   "outputs": [],
   "source": [
    "KB.retractall(\"in_sight(key)\")"
   ]
  },
  {
   "cell_type": "code",
   "execution_count": 8,
   "id": "cb95cedf-29b5-4874-bab9-fac892eb4a10",
   "metadata": {},
   "outputs": [],
   "source": [
    "KB.assertz('standing_on(key)')"
   ]
  },
  {
   "cell_type": "code",
   "execution_count": 9,
   "id": "596c18e1-c2ca-4642-a91f-5db5ab2ee855",
   "metadata": {},
   "outputs": [
    {
     "data": {
      "text/plain": [
       "[{'X': 'pick'}, {'X': 'explore'}]"
      ]
     },
     "execution_count": 9,
     "metadata": {},
     "output_type": "execute_result"
    }
   ],
   "source": [
    "list(KB.query('action(X)'))"
   ]
  },
  {
   "cell_type": "code",
   "execution_count": 10,
   "id": "0719f60d-869c-40da-88d5-bb8711994e7e",
   "metadata": {},
   "outputs": [
    {
     "data": {
      "text/plain": [
       "[{'X': 'pick'}, {'X': 'explore'}]"
      ]
     },
     "execution_count": 10,
     "metadata": {},
     "output_type": "execute_result"
    }
   ],
   "source": [
    "list(KB.query('action(X)'))"
   ]
  },
  {
   "cell_type": "code",
   "execution_count": 11,
   "id": "a98cbf45-9480-4d77-8c49-5a999fef412b",
   "metadata": {},
   "outputs": [],
   "source": [
    "KB.retractall('standing_on(key)')\n",
    "KB.retractall('in_sight(key)')\n",
    "KB.assertz('has(key)')"
   ]
  },
  {
   "cell_type": "code",
   "execution_count": 12,
   "id": "e88939f3-ab22-446a-916f-bc6d57963ca2",
   "metadata": {},
   "outputs": [
    {
     "data": {
      "text/plain": [
       "[{'X': 'explore'}]"
      ]
     },
     "execution_count": 12,
     "metadata": {},
     "output_type": "execute_result"
    }
   ],
   "source": [
    "list(KB.query('action(X)'))\n"
   ]
  },
  {
   "cell_type": "code",
   "execution_count": 13,
   "id": "4826b428-6e0e-4cb9-97e3-401bbcc14261",
   "metadata": {},
   "outputs": [],
   "source": [
    "KB.assertz('in_sight(door)')\n"
   ]
  },
  {
   "cell_type": "code",
   "execution_count": 14,
   "id": "1244fb27-f4aa-4160-8c05-be9c4e6afa9e",
   "metadata": {},
   "outputs": [
    {
     "data": {
      "text/plain": [
       "[{'X': 'go(door)'}]"
      ]
     },
     "execution_count": 14,
     "metadata": {},
     "output_type": "execute_result"
    }
   ],
   "source": [
    "list(KB.query('action(X)'))"
   ]
  },
  {
   "cell_type": "code",
   "execution_count": 15,
   "id": "b38e49c8-f060-4c8a-ab47-ccaa321116ad",
   "metadata": {},
   "outputs": [],
   "source": [
    "KB.assertz('standing_next(door)')\n"
   ]
  },
  {
   "cell_type": "code",
   "execution_count": 16,
   "id": "3c11e0ff-d4cb-4410-938c-803403440f9d",
   "metadata": {},
   "outputs": [
    {
     "data": {
      "text/plain": [
       "[{'X': 'opendoor'}, {'X': 'go(door)'}]"
      ]
     },
     "execution_count": 16,
     "metadata": {},
     "output_type": "execute_result"
    }
   ],
   "source": [
    "list(KB.query('action(X)'))\n"
   ]
  },
  {
   "cell_type": "code",
   "execution_count": 17,
   "id": "533f37d1-82e1-4cab-8830-c0f47ec0a7a9",
   "metadata": {},
   "outputs": [],
   "source": [
    "KB.assertz('is_open(door)')\n"
   ]
  },
  {
   "cell_type": "code",
   "execution_count": 18,
   "id": "65f0113b-ff10-49cd-a5f4-85b1e8e85c1c",
   "metadata": {},
   "outputs": [
    {
     "data": {
      "text/plain": [
       "[{'X': 'enter(door)'}, {'X': 'go(door)'}]"
      ]
     },
     "execution_count": 18,
     "metadata": {},
     "output_type": "execute_result"
    }
   ],
   "source": [
    "list(KB.query('action(X)'))\n"
   ]
  },
  {
   "cell_type": "code",
   "execution_count": 19,
   "id": "caadf95d-0363-42ea-a11a-9e26217bb9ea",
   "metadata": {},
   "outputs": [],
   "source": [
    "KB.asserta(\"in_sight(stairs)\")"
   ]
  },
  {
   "cell_type": "code",
   "execution_count": 20,
   "id": "4c43004d-de3c-442d-bef4-d5b136a4dfc2",
   "metadata": {},
   "outputs": [
    {
     "data": {
      "text/plain": [
       "[{'X': 'go(stairs)'}, {'X': 'enter(door)'}, {'X': 'go(door)'}]"
      ]
     },
     "execution_count": 20,
     "metadata": {},
     "output_type": "execute_result"
    }
   ],
   "source": [
    "list(KB.query('action(X)'))"
   ]
  },
  {
   "cell_type": "code",
   "execution_count": null,
   "id": "4bc23d0e-86bd-4d7f-b043-0db0682ca6ab",
   "metadata": {},
   "outputs": [],
   "source": []
  }
 ],
 "metadata": {
  "kernelspec": {
   "display_name": "Python 3",
   "language": "python",
   "name": "python3"
  },
  "language_info": {
   "codemirror_mode": {
    "name": "ipython",
    "version": 3
   },
   "file_extension": ".py",
   "mimetype": "text/x-python",
   "name": "python",
   "nbconvert_exporter": "python",
   "pygments_lexer": "ipython3",
   "version": "3.8.18"
  }
 },
 "nbformat": 4,
 "nbformat_minor": 5
}
